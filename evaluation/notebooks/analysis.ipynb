{
 "cells": [
  {
   "cell_type": "markdown",
   "id": "9628ceba",
   "metadata": {},
   "source": [
    "# Facial Landmark Analysis for Detecting Visual Impairment in Mobile LogMAR Test"
   ]
  },
  {
   "cell_type": "code",
   "execution_count": null,
   "id": "ee06e9a4",
   "metadata": {},
   "outputs": [],
   "source": [
    "import glob\n",
    "import pandas as pd\n",
    "import numpy as np\n",
    "from matplotlib import pyplot as plt\n",
    "from matplotlib.colors import LinearSegmentedColormap\n",
    "import matplotlib.lines as mlines\n",
    "import seaborn as sns\n",
    "import re\n",
    "\n",
    "from scipy import stats\n",
    "from sklearn.model_selection import train_test_split, GridSearchCV, StratifiedKFold\n",
    "from sklearn.metrics import accuracy_score, confusion_matrix, ConfusionMatrixDisplay, roc_curve, auc, RocCurveDisplay, roc_auc_score\n",
    "import xgboost as xgb\n",
    "import shap"
   ]
  },
  {
   "cell_type": "code",
   "execution_count": null,
   "id": "9a863615-5aa5-4021-a10f-c8d934b828e6",
   "metadata": {},
   "outputs": [],
   "source": [
    "pd.set_option('future.no_silent_downcasting', True)"
   ]
  },
  {
   "cell_type": "code",
   "execution_count": null,
   "id": "9c2e08e5",
   "metadata": {},
   "outputs": [],
   "source": [
    "plt.rcParams.update({'font.size': 12})\n",
    "dpi = 300"
   ]
  },
  {
   "cell_type": "markdown",
   "id": "7155a56b",
   "metadata": {},
   "source": [
    "## Study statistics"
   ]
  },
  {
   "cell_type": "code",
   "execution_count": null,
   "id": "628cd5d9",
   "metadata": {},
   "outputs": [],
   "source": [
    "df = pd.read_csv('../temp/train_data.csv')"
   ]
  },
  {
   "cell_type": "code",
   "execution_count": null,
   "id": "d5aa5332",
   "metadata": {},
   "outputs": [],
   "source": [
    "df.describe()"
   ]
  },
  {
   "cell_type": "code",
   "execution_count": null,
   "id": "26f18957",
   "metadata": {},
   "outputs": [],
   "source": [
    "df['label_bin'] = df['label'].replace('all', 0).replace('some', 1).replace('none', 1)\n",
    "df['label_mult'] = df['label'].replace('all', 0).replace('some', 1).replace('none', 2)"
   ]
  },
  {
   "cell_type": "code",
   "execution_count": null,
   "id": "05a3c54e",
   "metadata": {},
   "outputs": [],
   "source": [
    "unique_subjects_df = df.sort_values('logMAR').drop_duplicates(subset='subject', keep='first').reset_index()[['index', 'subject', 'hasVisualAid', 'usesVisualAid','needsNewVisualAid', 'visualAidDiopters', 'canReadCinemaSubtitles', 'canReadSmartphoneScreen', 'canReadRoadSigns', 'wasEasy', 'distance', 'logMAR']]"
   ]
  },
  {
   "cell_type": "code",
   "execution_count": null,
   "id": "bcefdc94",
   "metadata": {},
   "outputs": [],
   "source": [
    "unique_subjects_df['visualAidDiopters'] = unique_subjects_df['visualAidDiopters'].str.replace(',', '.').astype(float)"
   ]
  },
  {
   "cell_type": "code",
   "execution_count": null,
   "id": "54a693af",
   "metadata": {},
   "outputs": [],
   "source": [
    "n = len(unique_subjects_df)\n",
    "hasVisualAidTrue = np.sum(unique_subjects_df.hasVisualAid)\n",
    "usesVisualAidTrue = np.sum(unique_subjects_df.usesVisualAid)\n",
    "needsNewVisualAidTrue = np.sum(unique_subjects_df.needsNewVisualAid)\n",
    "canReadCinemaSubtitlesTrue = np.sum(unique_subjects_df.canReadCinemaSubtitles)\n",
    "canReadSmartphoneScreenTrue = np.sum(unique_subjects_df.canReadSmartphoneScreen)\n",
    "canReadRoadSignsTrue = np.sum(unique_subjects_df.canReadRoadSigns)\n",
    "wasEasyTrue = np.sum(unique_subjects_df.wasEasy)"
   ]
  },
  {
   "cell_type": "code",
   "execution_count": null,
   "id": "24c4fba4",
   "metadata": {},
   "outputs": [],
   "source": [
    "distances = ''\n",
    "q = unique_subjects_df.distance.value_counts()\n",
    "for k in q.index:\n",
    "    distances += str(k) + 'm: ' + str(q[k]) + ' \\t '\n",
    "    \n",
    "print('Number of runs:\\t\\t', n)\n",
    "print('Test conducted at \\t', distances)\n",
    "print(\n",
    "    'Range of diopters:\\t',\n",
    "    np.round(np.mean(unique_subjects_df.visualAidDiopters), 2),\n",
    "    '±',\n",
    "    np.round(np.std(unique_subjects_df.visualAidDiopters), 2)\n",
    ")\n",
    "print('Do you have a visual aid?\\t\\t\\t\\t\\t\\t', hasVisualAidTrue, 'yes \\t', n-hasVisualAidTrue, 'no')\n",
    "print('Is this test being conducted with a visual aid?\\t\\t\\t\\t', usesVisualAidTrue, 'yes \\t', n-usesVisualAidTrue, 'no')\n",
    "print('Do you have issues reading on a smartphone screen?\\t\\t\\t', canReadSmartphoneScreenTrue, 'yes \\t\\t', n-canReadSmartphoneScreenTrue, 'no')\n",
    "print('Do you have issues reading cinema subtitles and signs on the subway?\\t', canReadCinemaSubtitlesTrue, 'yes \\t', n-canReadCinemaSubtitlesTrue, 'no')\n",
    "print('Do you have issues reading road signs?\\t\\t\\t\\t\\t', canReadRoadSignsTrue, 'yes \\t', n-canReadRoadSignsTrue, 'no')\n",
    "print('Was the eye test easy for you?\\t\\t\\t\\t\\t\\t', wasEasyTrue, 'yes \\t', n-wasEasyTrue, 'no')\n",
    "print('Do you think you need a (new) visual aid?\\t\\t\\t\\t', needsNewVisualAidTrue, 'yes \\t', n-needsNewVisualAidTrue, 'no')"
   ]
  },
  {
   "cell_type": "code",
   "execution_count": null,
   "id": "ca818b82",
   "metadata": {},
   "outputs": [],
   "source": [
    "unique_subjects_df.corr().round(2)"
   ]
  },
  {
   "cell_type": "markdown",
   "id": "f7171672",
   "metadata": {},
   "source": [
    "## Data Analysis"
   ]
  },
  {
   "cell_type": "code",
   "execution_count": null,
   "id": "b4b58528-e449-4384-8baf-0a81f6ce0b12",
   "metadata": {},
   "outputs": [],
   "source": [
    "df = df[df.letter_row > 1]"
   ]
  },
  {
   "cell_type": "markdown",
   "id": "09e45f48-b260-4918-990a-3d4e81fc5f78",
   "metadata": {},
   "source": [
    "### Explorative Data Analysis and Statistical analysis"
   ]
  },
  {
   "cell_type": "code",
   "execution_count": null,
   "id": "58c553a0",
   "metadata": {},
   "outputs": [],
   "source": [
    "plt_df = pd.DataFrame()\n",
    "df_list = []\n",
    "substring = 'mean'\n",
    "for k in ['jaw', 'eye', 'mouth', 'cheek', 'brow', 'nose']:\n",
    "    filtered_columns = [col for col in df.columns if ((substring in col) & (k in col))] + ['label', 'logMAR', 'suppress_squinting', 'letter_row', 'subject']\n",
    "    temp = pd.DataFrame(df[filtered_columns].groupby(['label', 'logMAR', 'suppress_squinting', 'letter_row', 'subject']).mean().mean(axis=1)).reset_index()\n",
    "    temp['feature'] = k\n",
    "    df_list.append(temp[temp.suppress_squinting == False])\n",
    "    plt_df = pd.concat([plt_df, temp])\n",
    "plt_df = plt_df.reset_index()\n",
    "plt_df = plt_df.rename({0: 'value'}, axis=1)"
   ]
  },
  {
   "cell_type": "code",
   "execution_count": null,
   "id": "020c6008",
   "metadata": {},
   "outputs": [],
   "source": [
    "for k in plt_df.feature.unique():\n",
    "    plt.figure()\n",
    "    temp = plt_df[plt_df.feature == k] #['value']\n",
    "    sns.histplot(temp, x='value', hue='label').set_title(k)\n",
    "    plt.plot()"
   ]
  },
  {
   "cell_type": "code",
   "execution_count": null,
   "id": "4b3ef595",
   "metadata": {},
   "outputs": [],
   "source": [
    "sns.set_context(\"notebook\", font_scale=1.5)"
   ]
  },
  {
   "cell_type": "code",
   "execution_count": null,
   "id": "0ba82aed",
   "metadata": {},
   "outputs": [],
   "source": [
    "fig, ax = plt.subplots(figsize=(10,5))\n",
    "hue_order = ['all', 'some', 'none']\n",
    "sns.boxplot(data=plt_df, x=\"feature\", y=\"value\", hue=\"label\", hue_order=hue_order)\n",
    "ax.legend(title='Label', loc='upper left')\n",
    "fig.savefig('../media/boxplot_feature.png', dpi=dpi, bbox_inches='tight')"
   ]
  },
  {
   "cell_type": "markdown",
   "id": "3f223f39",
   "metadata": {},
   "source": [
    "From the two plots above (histogram and boxplot) we can see that at least two requirements for ANOVA are fulfilled:\n",
    "1. Samples origina from a normal distribution\n",
    "2. Standard deviation is equal among the groups"
   ]
  },
  {
   "cell_type": "code",
   "execution_count": null,
   "id": "c668f447",
   "metadata": {},
   "outputs": [],
   "source": [
    "for k in plt_df.feature.unique():\n",
    "    filt = plt_df.feature == k\n",
    "    a = plt_df[filt & (plt_df.label == 'all')]['value']\n",
    "    b = plt_df[filt & (plt_df.label == 'some')]['value']\n",
    "    c = plt_df[filt & (plt_df.label == 'none')]['value']\n",
    "    temp = stats.f_oneway(a, b, c)\n",
    "    print(k, \"\\t p-value:\", np.round(temp.pvalue, 4))"
   ]
  },
  {
   "cell_type": "code",
   "execution_count": null,
   "id": "fcc496b0",
   "metadata": {},
   "outputs": [],
   "source": [
    "g = sns.FacetGrid(plt_df[(plt_df.letter_row > -1) & (plt_df.letter_row < 16)], col=\"feature\", col_wrap=3)\n",
    "g.map(sns.lineplot, \"logMAR\", 'value', \"suppress_squinting\")\n",
    "g.set_xlabels('logMAR')\n",
    "\n",
    "border_none = np.mean(plt_df[(plt_df.suppress_squinting == False) & (plt_df.label == 'none')]['logMAR'])\n",
    "border_some = np.mean(plt_df[(plt_df.suppress_squinting == False) & (plt_df.label == 'some')]['logMAR'])\n",
    "\n",
    "for ax, (name, group) in zip(g.axes.flat, plt_df.groupby('feature')):\n",
    "    ax.set_xlim(1.1, -0.4)\n",
    "    ax.axvline(x=border_none, color='red', linestyle='--', linewidth=1)\n",
    "    ax.axvline(x=border_some, color='orange', linestyle='--', linewidth=1)\n",
    "\n",
    "red_line = mlines.Line2D([], [], color='red', linestyle='--', linewidth=1, label='no letters')\n",
    "orange_line = mlines.Line2D([], [], color='orange', linestyle='--', linewidth=1, label='some letters')\n",
    "\n",
    "g.fig.legend(handles=[red_line, orange_line], title=\"Mean logMAR of the event: Could read\", bbox_to_anchor=(0.69, 1.15), loc='upper center', ncol=2)\n",
    "handles, labels = ax.get_legend_handles_labels()\n",
    "g.fig.legend(handles, labels, title=\"Suppress squinting\", bbox_to_anchor=(0.24, 1.15), loc='upper center', ncol=3)\n",
    "\n",
    "g.savefig('../media/change_feature.png', dpi=300)\n",
    "plt.show()"
   ]
  },
  {
   "cell_type": "code",
   "execution_count": null,
   "id": "ccd20ba1-1186-4e4a-b5fe-e05b20d2eb10",
   "metadata": {},
   "outputs": [],
   "source": [
    "plt_df['label'] = pd.Categorical(plt_df['label'], categories=[\"all\", \"some\", \"none\"], ordered=True)\n",
    "\n",
    "g = sns.FacetGrid(plt_df[(plt_df.letter_row > 1) & (plt_df.letter_row < 16)], col=\"feature\", col_wrap=3)\n",
    "label_order = [\"all\", \"some\", \"none\"]\n",
    "g.map(sns.lineplot, \"label\", 'value', \"suppress_squinting\")\n",
    "g.set_xlabels('label')\n",
    "\n",
    "handles, labels = ax.get_legend_handles_labels()\n",
    "g.fig.legend(handles, labels, title=\"Suppress squinting\", bbox_to_anchor=(0.24, 1.15), loc='upper center', ncol=3)\n",
    "# Saving and showing the plot\n",
    "g.savefig('../media/change_feature_individual.png', dpi=300)\n",
    "plt.show()"
   ]
  },
  {
   "cell_type": "markdown",
   "id": "a6e76755",
   "metadata": {},
   "source": [
    "### Sensor Accuracy"
   ]
  },
  {
   "cell_type": "code",
   "execution_count": null,
   "id": "2f0ed51b",
   "metadata": {},
   "outputs": [],
   "source": [
    "def zscore_normalize(x):\n",
    "    return (x - x.mean()) / x.std()"
   ]
  },
  {
   "cell_type": "code",
   "execution_count": null,
   "id": "e07a81d8",
   "metadata": {},
   "outputs": [],
   "source": [
    "df_accuracy = pd.DataFrame()"
   ]
  },
  {
   "cell_type": "code",
   "execution_count": null,
   "id": "e8af1a9d",
   "metadata": {},
   "outputs": [],
   "source": [
    "for k in glob.glob('../temp_/*.csv'):\n",
    "    df_accuracy = pd.concat([df_accuracy, pd.read_csv(k)])"
   ]
  },
  {
   "cell_type": "code",
   "execution_count": null,
   "id": "3925a34c",
   "metadata": {},
   "outputs": [],
   "source": [
    "df_accuracy.reset_index(inplace=True)"
   ]
  },
  {
   "cell_type": "code",
   "execution_count": null,
   "id": "3b2b4d57",
   "metadata": {},
   "outputs": [],
   "source": [
    "df_accuracy = df_accuracy.rename({'index': 'time'}, axis=1)\n",
    "browUp = df_accuracy[(df_accuracy.letter_row == 3) & (df_accuracy.time > 10)][['browOuterUp_R', 'subject', 'time']]\n",
    "mouthUp = df_accuracy[(df_accuracy.letter_row == 4) & (df_accuracy.time > 10)][['mouthSmile_R', 'subject', 'time']]\n",
    "squint = df_accuracy[(df_accuracy.letter_row == 2) & (df_accuracy.time > 10)][['cheekSquint_R', 'subject', 'time']]\n",
    "browUp = browUp.rename({'browOuterUp_R': 'value'}, axis=1)\n",
    "mouthUp = mouthUp.rename({'mouthSmile_R': 'value'}, axis=1)\n",
    "squint = squint.rename({'cheekSquint_R': 'value'}, axis=1)\n",
    "browUp['action'] = 'brow raising'\n",
    "mouthUp['action'] = 'mouth smiling'\n",
    "squint['action'] = 'cheek squinting'"
   ]
  },
  {
   "cell_type": "code",
   "execution_count": null,
   "id": "4d0f3712",
   "metadata": {},
   "outputs": [],
   "source": [
    "df_accuracy = pd.concat([browUp, mouthUp, squint])"
   ]
  },
  {
   "cell_type": "code",
   "execution_count": null,
   "id": "e9e60ef5",
   "metadata": {},
   "outputs": [],
   "source": [
    "df_accuracy.loc[:, 'value'] = df_accuracy.loc[:, ['value', 'subject']].groupby('subject').transform(zscore_normalize)"
   ]
  },
  {
   "cell_type": "code",
   "execution_count": null,
   "id": "507c65cb",
   "metadata": {},
   "outputs": [],
   "source": [
    "sns.set_context(\"notebook\", font_scale=2.2)"
   ]
  },
  {
   "cell_type": "code",
   "execution_count": null,
   "id": "72865485",
   "metadata": {},
   "outputs": [],
   "source": [
    "df_accuracy['time_shifted'] = df_accuracy.groupby(['subject', 'action'])['time'].transform(lambda x: x - x.min())\n",
    "df_accuracy.time_shifted = df_accuracy.time_shifted / 60.0\n",
    "\n",
    "# Create a FacetGrid with larger subplots and adjust vertical space\n",
    "g = sns.FacetGrid(df_accuracy, col=\"subject\", row='action', sharex=False, height=5, aspect=0.8)\n",
    "g.map(sns.lineplot, \"time_shifted\", \"value\")\n",
    "g.set_titles(\"Subject {col_name}\\n{row_name}\")\n",
    "#\\nAction: {row_name}\n",
    "for ax, title in zip(g.axes[:, 0], df_accuracy['action'].unique()):\n",
    "    ax.set_ylabel(f'{title} signal')\n",
    "\n",
    "g.set_xlabels('Time [s]')\n",
    "\n",
    "# Adjust space between subplots\n",
    "plt.subplots_adjust(hspace=0.45)  # Adjust the hspace parameter as needed\n",
    "\n",
    "# Save the figure\n",
    "g.savefig('../media/predefined_actions.png', dpi=300)\n",
    "plt.show()"
   ]
  },
  {
   "cell_type": "markdown",
   "id": "0814ca91-e417-45df-87a7-6e896901cc32",
   "metadata": {},
   "source": [
    "### Facial Landmarks as a Predictor of Readability"
   ]
  },
  {
   "cell_type": "code",
   "execution_count": null,
   "id": "062bcc58-be6f-459d-9e7f-e162ab7b8a4d",
   "metadata": {},
   "outputs": [],
   "source": [
    "df"
   ]
  },
  {
   "cell_type": "code",
   "execution_count": null,
   "id": "d55d1c9e-b8f7-453b-8269-77c6bf4827e4",
   "metadata": {},
   "outputs": [],
   "source": [
    "df.groupby(\"label_mult\")[\"index\"].nunique()"
   ]
  },
  {
   "cell_type": "code",
   "execution_count": null,
   "id": "e2deb7dc-c8c1-4970-8846-aba3ab816de7",
   "metadata": {},
   "outputs": [],
   "source": [
    "df_result_ = pd.DataFrame()\n",
    "df_result_std = pd.DataFrame()\n",
    "df_result_best = pd.DataFrame()\n",
    "\n",
    "for mode in [\"std\", \"mean\", \"max\", \"min\"]:\n",
    "    for squint in [True, False]:\n",
    "        train_df = df[(df.suppress_squinting == squint)]\n",
    "        columns_feature = [col for col in train_df.columns if (mode in col)]\n",
    "        df_auc = pd.DataFrame(index=np.sort(train_df.subject.unique()), columns=columns_feature)\n",
    "        for column in df_auc.columns:\n",
    "            for sub in df_auc.index:\n",
    "                values = train_df[(train_df.subject == sub)][column].values\n",
    "                labels = train_df[(train_df.subject == sub)][\"label_bin\"].astype(int).values\n",
    "                try:\n",
    "                    auc = roc_auc_score(labels, values)\n",
    "                    df_auc.loc[sub, column] = auc\n",
    "                except:\n",
    "                    df_auc.loc[sub, column] = np.nan\n",
    "        df_result_best[mode] = df_auc.max(axis=1)\n",
    "        heatmap_data = pd.DataFrame((df_auc[df_auc.sum(axis=0).sort_values().index]).astype(float).mean(axis=0)).transpose()\n",
    "        heatmap_data.columns = heatmap_data.columns.str.replace(mode, '', regex=False)\n",
    "        heatmap_data.index = [mode]\n",
    "        df_result_ = pd.concat([df_result_, heatmap_data])\n",
    "\n",
    "        if squint == True:\n",
    "            df_auc_plt = df_auc\n",
    "            df_auc_plt[\"squint\"] = False\n",
    "        else:\n",
    "            df_auc_plt_ = df_auc\n",
    "            df_auc_plt_[\"squint\"] = True\n",
    "    df_auc_plt = pd.concat([df_auc_plt, df_auc_plt_])\n",
    "        \n",
    "    df_auc_plt = df_auc_plt[df_auc_plt.sum(axis=0).sort_values().index]\n",
    "    df_auc_plt.columns = df_auc_plt.columns.str.replace(mode, '', regex=False)\n",
    "    df_auc_plt = df_auc_plt.melt(id_vars=['squint'], var_name='Blendshape', value_name='AUC Score')\n",
    "    \n",
    "    plt.figure(figsize=(40, 5))\n",
    "    ax = sns.boxplot(data=df_auc_plt, x='Blendshape', y='AUC Score', hue='squint')\n",
    "    plt.xticks(fontsize=30, rotation=90)\n",
    "    plt.yticks(fontsize=30)\n",
    "    plt.title(f\"AUC scores for the blendshapes ({mode})\", fontsize=30, pad=15)\n",
    "    legend = ax.legend(title='Squinting allowed', loc='lower right')\n",
    "    plt.savefig(f'../media/AUC_Blendshapes_{mode}.png', dpi=300, bbox_inches='tight')\n",
    "    plt.show()"
   ]
  },
  {
   "cell_type": "code",
   "execution_count": null,
   "id": "82adba4d-0684-4672-b689-96f7711fe2f0",
   "metadata": {},
   "outputs": [],
   "source": [
    "np.round(df_result_[df_result_.sum(axis=0).sort_values().index], 2)"
   ]
  },
  {
   "cell_type": "code",
   "execution_count": null,
   "id": "bbbd0988-495a-4a0b-a29d-fb7fd8687487",
   "metadata": {},
   "outputs": [],
   "source": [
    "df_result_best"
   ]
  },
  {
   "cell_type": "code",
   "execution_count": null,
   "id": "17dd4d1b-451d-4be8-a6f2-c3df36335579",
   "metadata": {},
   "outputs": [],
   "source": []
  }
 ],
 "metadata": {
  "kernelspec": {
   "display_name": "Python 3 (ipykernel)",
   "language": "python",
   "name": "python3"
  },
  "language_info": {
   "codemirror_mode": {
    "name": "ipython",
    "version": 3
   },
   "file_extension": ".py",
   "mimetype": "text/x-python",
   "name": "python",
   "nbconvert_exporter": "python",
   "pygments_lexer": "ipython3",
   "version": "3.9.19"
  }
 },
 "nbformat": 4,
 "nbformat_minor": 5
}
